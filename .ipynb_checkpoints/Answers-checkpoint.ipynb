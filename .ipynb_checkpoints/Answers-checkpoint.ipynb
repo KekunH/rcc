{
 "cells": [
  {
   "cell_type": "markdown",
   "id": "e2078870",
   "metadata": {},
   "source": [
    "### Q1(a)"
   ]
  },
  {
   "cell_type": "markdown",
   "id": "19805bdc",
   "metadata": {},
   "source": [
    "The computation time before speeding up is 3.1003182511776686, the computation time after speeding up is 2.185731455683708"
   ]
  },
  {
   "cell_type": "markdown",
   "id": "f5897d2b",
   "metadata": {},
   "source": [
    "### Q1(b)"
   ]
  },
  {
   "cell_type": "markdown",
   "id": "3cf9be05",
   "metadata": {},
   "source": [
    "Code file is in"
   ]
  },
  {
   "cell_type": "code",
   "execution_count": null,
   "id": "bceced6b",
   "metadata": {},
   "outputs": [],
   "source": []
  }
 ],
 "metadata": {
  "kernelspec": {
   "display_name": "Python 3 (ipykernel)",
   "language": "python",
   "name": "python3"
  },
  "language_info": {
   "codemirror_mode": {
    "name": "ipython",
    "version": 3
   },
   "file_extension": ".py",
   "mimetype": "text/x-python",
   "name": "python",
   "nbconvert_exporter": "python",
   "pygments_lexer": "ipython3",
   "version": "3.9.12"
  }
 },
 "nbformat": 4,
 "nbformat_minor": 5
}
